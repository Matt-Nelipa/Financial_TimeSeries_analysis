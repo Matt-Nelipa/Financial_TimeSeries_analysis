{
  "cells": [
    {
      "cell_type": "markdown",
      "metadata": {},
      "source": [
        "# Financial Analysis with TimeSeries data"
      ]
    },
    {
      "cell_type": "code",
      "execution_count": 15,
      "metadata": {
        "id": "aHQz1ILTpz2U"
      },
      "outputs": [],
      "source": [
        "import pandas as pd\n",
        "import numpy as np\n",
        "import matplotlib.pyplot as plt\n",
        "import plotly_express as px\n",
        "from statsmodels.tsa.api import VAR\n",
        "from statsmodels.tsa.stattools import adfuller\n",
        "from statsmodels.tools.eval_measures import rmse, aic\n",
        "from statsmodels.tsa.stattools import grangercausalitytests\n",
        "from statsmodels.tsa.vector_ar.vecm import coint_johansen\n",
        "#from statsmodels.stats.stattools import durbin_watso\n",
        "from sktime.utils.plotting import plot_series"
      ]
    },
    {
      "cell_type": "code",
      "execution_count": 17,
      "metadata": {
        "colab": {
          "base_uri": "https://localhost:8080/"
        },
        "id": "HX6dwmGip32j",
        "outputId": "cf267c95-beae-43c6-d99b-bd936cb5614c"
      },
      "outputs": [
        {
          "name": "stdout",
          "output_type": "stream",
          "text": [
            "<class 'pandas.core.frame.DataFrame'>\n",
            "RangeIndex: 105 entries, 0 to 104\n",
            "Data columns (total 7 columns):\n",
            " #   Column  Non-Null Count  Dtype  \n",
            "---  ------  --------------  -----  \n",
            " 0   date    105 non-null    object \n",
            " 1   GOOG    105 non-null    float64\n",
            " 2   AAPL    105 non-null    float64\n",
            " 3   AMZN    105 non-null    float64\n",
            " 4   FB      105 non-null    float64\n",
            " 5   NFLX    105 non-null    float64\n",
            " 6   MSFT    105 non-null    float64\n",
            "dtypes: float64(6), object(1)\n",
            "memory usage: 5.9+ KB\n"
          ]
        }
      ],
      "source": [
        "st=px.data.stocks()\n",
        "st.info()"
      ]
    },
    {
      "cell_type": "code",
      "execution_count": 18,
      "metadata": {
        "colab": {
          "base_uri": "https://localhost:8080/",
          "height": 1441
        },
        "id": "-FPDhGKB_XjA",
        "outputId": "75700e0c-acb2-4e0b-ba7a-506e7c2fb665"
      },
      "outputs": [
        {
          "data": {
            "text/html": [
              "<div>\n",
              "<style scoped>\n",
              "    .dataframe tbody tr th:only-of-type {\n",
              "        vertical-align: middle;\n",
              "    }\n",
              "\n",
              "    .dataframe tbody tr th {\n",
              "        vertical-align: top;\n",
              "    }\n",
              "\n",
              "    .dataframe thead th {\n",
              "        text-align: right;\n",
              "    }\n",
              "</style>\n",
              "<table border=\"1\" class=\"dataframe\">\n",
              "  <thead>\n",
              "    <tr style=\"text-align: right;\">\n",
              "      <th></th>\n",
              "      <th>date</th>\n",
              "      <th>GOOG</th>\n",
              "      <th>AAPL</th>\n",
              "      <th>AMZN</th>\n",
              "      <th>FB</th>\n",
              "      <th>NFLX</th>\n",
              "      <th>MSFT</th>\n",
              "    </tr>\n",
              "  </thead>\n",
              "  <tbody>\n",
              "    <tr>\n",
              "      <th>0</th>\n",
              "      <td>2018-01-01</td>\n",
              "      <td>1.000000</td>\n",
              "      <td>1.000000</td>\n",
              "      <td>1.000000</td>\n",
              "      <td>1.000000</td>\n",
              "      <td>1.000000</td>\n",
              "      <td>1.000000</td>\n",
              "    </tr>\n",
              "    <tr>\n",
              "      <th>1</th>\n",
              "      <td>2018-01-08</td>\n",
              "      <td>1.018172</td>\n",
              "      <td>1.011943</td>\n",
              "      <td>1.061881</td>\n",
              "      <td>0.959968</td>\n",
              "      <td>1.053526</td>\n",
              "      <td>1.015988</td>\n",
              "    </tr>\n",
              "    <tr>\n",
              "      <th>2</th>\n",
              "      <td>2018-01-15</td>\n",
              "      <td>1.032008</td>\n",
              "      <td>1.019771</td>\n",
              "      <td>1.053240</td>\n",
              "      <td>0.970243</td>\n",
              "      <td>1.049860</td>\n",
              "      <td>1.020524</td>\n",
              "    </tr>\n",
              "    <tr>\n",
              "      <th>3</th>\n",
              "      <td>2018-01-22</td>\n",
              "      <td>1.066783</td>\n",
              "      <td>0.980057</td>\n",
              "      <td>1.140676</td>\n",
              "      <td>1.016858</td>\n",
              "      <td>1.307681</td>\n",
              "      <td>1.066561</td>\n",
              "    </tr>\n",
              "    <tr>\n",
              "      <th>4</th>\n",
              "      <td>2018-01-29</td>\n",
              "      <td>1.008773</td>\n",
              "      <td>0.917143</td>\n",
              "      <td>1.163374</td>\n",
              "      <td>1.018357</td>\n",
              "      <td>1.273537</td>\n",
              "      <td>1.040708</td>\n",
              "    </tr>\n",
              "  </tbody>\n",
              "</table>\n",
              "</div>"
            ],
            "text/plain": [
              "         date      GOOG      AAPL      AMZN        FB      NFLX      MSFT\n",
              "0  2018-01-01  1.000000  1.000000  1.000000  1.000000  1.000000  1.000000\n",
              "1  2018-01-08  1.018172  1.011943  1.061881  0.959968  1.053526  1.015988\n",
              "2  2018-01-15  1.032008  1.019771  1.053240  0.970243  1.049860  1.020524\n",
              "3  2018-01-22  1.066783  0.980057  1.140676  1.016858  1.307681  1.066561\n",
              "4  2018-01-29  1.008773  0.917143  1.163374  1.018357  1.273537  1.040708"
            ]
          },
          "execution_count": 18,
          "metadata": {},
          "output_type": "execute_result"
        }
      ],
      "source": [
        "st.head()"
      ]
    },
    {
      "cell_type": "code",
      "execution_count": 19,
      "metadata": {
        "colab": {
          "base_uri": "https://localhost:8080/",
          "height": 238
        },
        "id": "njGEGkfQp7Ia",
        "outputId": "b2fa4839-6ffb-4a43-a135-0e80149cb8c2"
      },
      "outputs": [
        {
          "data": {
            "text/html": [
              "<div>\n",
              "<style scoped>\n",
              "    .dataframe tbody tr th:only-of-type {\n",
              "        vertical-align: middle;\n",
              "    }\n",
              "\n",
              "    .dataframe tbody tr th {\n",
              "        vertical-align: top;\n",
              "    }\n",
              "\n",
              "    .dataframe thead th {\n",
              "        text-align: right;\n",
              "    }\n",
              "</style>\n",
              "<table border=\"1\" class=\"dataframe\">\n",
              "  <thead>\n",
              "    <tr style=\"text-align: right;\">\n",
              "      <th></th>\n",
              "      <th>GOOG</th>\n",
              "      <th>AAPL</th>\n",
              "      <th>AMZN</th>\n",
              "      <th>FB</th>\n",
              "      <th>NFLX</th>\n",
              "      <th>MSFT</th>\n",
              "    </tr>\n",
              "    <tr>\n",
              "      <th>date</th>\n",
              "      <th></th>\n",
              "      <th></th>\n",
              "      <th></th>\n",
              "      <th></th>\n",
              "      <th></th>\n",
              "      <th></th>\n",
              "    </tr>\n",
              "  </thead>\n",
              "  <tbody>\n",
              "    <tr>\n",
              "      <th>2018-01-01</th>\n",
              "      <td>1.000000</td>\n",
              "      <td>1.000000</td>\n",
              "      <td>1.000000</td>\n",
              "      <td>1.000000</td>\n",
              "      <td>1.000000</td>\n",
              "      <td>1.000000</td>\n",
              "    </tr>\n",
              "    <tr>\n",
              "      <th>2018-01-08</th>\n",
              "      <td>1.018172</td>\n",
              "      <td>1.011943</td>\n",
              "      <td>1.061881</td>\n",
              "      <td>0.959968</td>\n",
              "      <td>1.053526</td>\n",
              "      <td>1.015988</td>\n",
              "    </tr>\n",
              "    <tr>\n",
              "      <th>2018-01-15</th>\n",
              "      <td>1.032008</td>\n",
              "      <td>1.019771</td>\n",
              "      <td>1.053240</td>\n",
              "      <td>0.970243</td>\n",
              "      <td>1.049860</td>\n",
              "      <td>1.020524</td>\n",
              "    </tr>\n",
              "    <tr>\n",
              "      <th>2018-01-22</th>\n",
              "      <td>1.066783</td>\n",
              "      <td>0.980057</td>\n",
              "      <td>1.140676</td>\n",
              "      <td>1.016858</td>\n",
              "      <td>1.307681</td>\n",
              "      <td>1.066561</td>\n",
              "    </tr>\n",
              "    <tr>\n",
              "      <th>2018-01-29</th>\n",
              "      <td>1.008773</td>\n",
              "      <td>0.917143</td>\n",
              "      <td>1.163374</td>\n",
              "      <td>1.018357</td>\n",
              "      <td>1.273537</td>\n",
              "      <td>1.040708</td>\n",
              "    </tr>\n",
              "  </tbody>\n",
              "</table>\n",
              "</div>"
            ],
            "text/plain": [
              "                GOOG      AAPL      AMZN        FB      NFLX      MSFT\n",
              "date                                                                  \n",
              "2018-01-01  1.000000  1.000000  1.000000  1.000000  1.000000  1.000000\n",
              "2018-01-08  1.018172  1.011943  1.061881  0.959968  1.053526  1.015988\n",
              "2018-01-15  1.032008  1.019771  1.053240  0.970243  1.049860  1.020524\n",
              "2018-01-22  1.066783  0.980057  1.140676  1.016858  1.307681  1.066561\n",
              "2018-01-29  1.008773  0.917143  1.163374  1.018357  1.273537  1.040708"
            ]
          },
          "execution_count": 19,
          "metadata": {},
          "output_type": "execute_result"
        }
      ],
      "source": [
        "st.index = pd.to_datetime(st['date'])\n",
        "st = st.drop(columns='date')\n",
        "st.head()"
      ]
    },
    {
      "cell_type": "code",
      "execution_count": 20,
      "metadata": {
        "colab": {
          "base_uri": "https://localhost:8080/"
        },
        "id": "bREj2Gb8pkHV",
        "outputId": "a5c7e370-f739-4aff-fabf-5b6a0e2f9aa3"
      },
      "outputs": [
        {
          "data": {
            "text/plain": [
              "PeriodIndex(['2018-01-01', '2018-01-08', '2018-01-15', '2018-01-22',\n",
              "             '2018-01-29', '2018-02-05', '2018-02-12', '2018-02-19',\n",
              "             '2018-02-26', '2018-03-05',\n",
              "             ...\n",
              "             '2019-10-28', '2019-11-04', '2019-11-11', '2019-11-18',\n",
              "             '2019-11-25', '2019-12-02', '2019-12-09', '2019-12-16',\n",
              "             '2019-12-23', '2019-12-30'],\n",
              "            dtype='period[D]', name='date', length=105)"
            ]
          },
          "execution_count": 20,
          "metadata": {},
          "output_type": "execute_result"
        }
      ],
      "source": [
        "st = st.sort_values(by='date')\n",
        "st.index = st.index.to_period('D')\n",
        "st.index"
      ]
    },
    {
      "cell_type": "code",
      "execution_count": 21,
      "metadata": {
        "colab": {
          "base_uri": "https://localhost:8080/"
        },
        "id": "9zjUIyJUsQ7q",
        "outputId": "82bcefa3-7bd7-48d8-edc0-b8f76ba848ca"
      },
      "outputs": [
        {
          "name": "stdout",
          "output_type": "stream",
          "text": [
            "<class 'pandas.core.frame.DataFrame'>\n",
            "PeriodIndex: 105 entries, 2018-01-01 to 2019-12-30\n",
            "Freq: D\n",
            "Data columns (total 6 columns):\n",
            " #   Column  Non-Null Count  Dtype  \n",
            "---  ------  --------------  -----  \n",
            " 0   GOOG    105 non-null    float64\n",
            " 1   AAPL    105 non-null    float64\n",
            " 2   AMZN    105 non-null    float64\n",
            " 3   FB      105 non-null    float64\n",
            " 4   NFLX    105 non-null    float64\n",
            " 5   MSFT    105 non-null    float64\n",
            "dtypes: float64(6)\n",
            "memory usage: 5.7 KB\n"
          ]
        }
      ],
      "source": [
        "st.info()"
      ]
    },
    {
      "cell_type": "code",
      "execution_count": 22,
      "metadata": {
        "id": "OTr_64d1sFqL"
      },
      "outputs": [],
      "source": [
        "st = st.resample('M', convention='end').mean()"
      ]
    },
    {
      "cell_type": "code",
      "execution_count": 23,
      "metadata": {
        "colab": {
          "base_uri": "https://localhost:8080/",
          "height": 238
        },
        "id": "WxIW6wRFsSHZ",
        "outputId": "1e8d432b-65af-4158-d918-15f6acff1a9b"
      },
      "outputs": [
        {
          "data": {
            "text/html": [
              "<div>\n",
              "<style scoped>\n",
              "    .dataframe tbody tr th:only-of-type {\n",
              "        vertical-align: middle;\n",
              "    }\n",
              "\n",
              "    .dataframe tbody tr th {\n",
              "        vertical-align: top;\n",
              "    }\n",
              "\n",
              "    .dataframe thead th {\n",
              "        text-align: right;\n",
              "    }\n",
              "</style>\n",
              "<table border=\"1\" class=\"dataframe\">\n",
              "  <thead>\n",
              "    <tr style=\"text-align: right;\">\n",
              "      <th></th>\n",
              "      <th>GOOG</th>\n",
              "      <th>AAPL</th>\n",
              "      <th>AMZN</th>\n",
              "      <th>FB</th>\n",
              "      <th>NFLX</th>\n",
              "      <th>MSFT</th>\n",
              "    </tr>\n",
              "    <tr>\n",
              "      <th>date</th>\n",
              "      <th></th>\n",
              "      <th></th>\n",
              "      <th></th>\n",
              "      <th></th>\n",
              "      <th></th>\n",
              "      <th></th>\n",
              "    </tr>\n",
              "  </thead>\n",
              "  <tbody>\n",
              "    <tr>\n",
              "      <th>2018-01</th>\n",
              "      <td>1.025147</td>\n",
              "      <td>0.985783</td>\n",
              "      <td>1.083834</td>\n",
              "      <td>0.993085</td>\n",
              "      <td>1.136921</td>\n",
              "      <td>1.028756</td>\n",
              "    </tr>\n",
              "    <tr>\n",
              "      <th>2018-02</th>\n",
              "      <td>0.983980</td>\n",
              "      <td>0.972214</td>\n",
              "      <td>1.177356</td>\n",
              "      <td>0.954482</td>\n",
              "      <td>1.327408</td>\n",
              "      <td>1.041189</td>\n",
              "    </tr>\n",
              "    <tr>\n",
              "      <th>2018-03</th>\n",
              "      <td>0.986439</td>\n",
              "      <td>0.986743</td>\n",
              "      <td>1.239377</td>\n",
              "      <td>0.922531</td>\n",
              "      <td>1.483618</td>\n",
              "      <td>1.047709</td>\n",
              "    </tr>\n",
              "    <tr>\n",
              "      <th>2018-04</th>\n",
              "      <td>0.941279</td>\n",
              "      <td>0.977120</td>\n",
              "      <td>1.223145</td>\n",
              "      <td>0.897190</td>\n",
              "      <td>1.485899</td>\n",
              "      <td>1.064270</td>\n",
              "    </tr>\n",
              "    <tr>\n",
              "      <th>2018-05</th>\n",
              "      <td>0.988854</td>\n",
              "      <td>1.076743</td>\n",
              "      <td>1.307615</td>\n",
              "      <td>1.001579</td>\n",
              "      <td>1.621339</td>\n",
              "      <td>1.114667</td>\n",
              "    </tr>\n",
              "  </tbody>\n",
              "</table>\n",
              "</div>"
            ],
            "text/plain": [
              "             GOOG      AAPL      AMZN        FB      NFLX      MSFT\n",
              "date                                                               \n",
              "2018-01  1.025147  0.985783  1.083834  0.993085  1.136921  1.028756\n",
              "2018-02  0.983980  0.972214  1.177356  0.954482  1.327408  1.041189\n",
              "2018-03  0.986439  0.986743  1.239377  0.922531  1.483618  1.047709\n",
              "2018-04  0.941279  0.977120  1.223145  0.897190  1.485899  1.064270\n",
              "2018-05  0.988854  1.076743  1.307615  1.001579  1.621339  1.114667"
            ]
          },
          "execution_count": 23,
          "metadata": {},
          "output_type": "execute_result"
        }
      ],
      "source": [
        "st.head()"
      ]
    },
    {
      "cell_type": "code",
      "execution_count": 24,
      "metadata": {
        "colab": {
          "base_uri": "https://localhost:8080/",
          "height": 368
        },
        "id": "xzQUM4mfqRxV",
        "outputId": "dcc1a4bf-ca55-4eca-826a-ce1581946840"
      },
      "outputs": [
        {
          "data": {
            "image/png": "[encoded data removed]",
            "text/plain": [
              "<Figure size 1600x400 with 1 Axes>"
            ]
          },
          "metadata": {},
          "output_type": "display_data"
        }
      ],
      "source": [
        "plot_series(st['GOOG'],st['AAPL'],st['AMZN'],st['FB'],st['NFLX'],st['MSFT']);"
      ]
    },
    {
      "cell_type": "code",
      "execution_count": 25,
      "metadata": {
        "id": "QQHCOvLerpk9"
      },
      "outputs": [],
      "source": [
        "def cointegration_test(df, alpha=0.05):\n",
        "    out = coint_johansen(df, -1,5)\n",
        "    d = {'0.90': 0, '0.95': 1, '0.99': 2}\n",
        "    traces = out.lr1\n",
        "    cvts = out.cvt[:, d[str(1-alpha)]]\n",
        "    def adjust(val, length=6): return str(val).ljust(length)\n",
        "    print('Name   ::  Test Stat > C(95%)    =>   Signif  \\n', '--'*20)\n",
        "    for col, trace, cvt in zip(df.columns, traces, cvts):\n",
        "        print(adjust(col), ':', adjust(round(trace, 2), 9), \">\", adjust(cvt, 8), ' =>  ', trace > cvt)"
      ]
    },
    {
      "cell_type": "code",
      "execution_count": 26,
      "metadata": {
        "colab": {
          "base_uri": "https://localhost:8080/"
        },
        "id": "E-TztMrv60Qq",
        "outputId": "59a9aec9-21cf-45b4-a572-ee4d403aab61"
      },
      "outputs": [
        {
          "name": "stdout",
          "output_type": "stream",
          "text": [
            "Name   ::  Test Stat > C(95%)    =>   Signif  \n",
            " ----------------------------------------\n",
            "GOOG   : 77.74     > 83.9383   =>   False\n",
            "AAPL   : 50.22     > 60.0627   =>   False\n",
            "AMZN   : 25.79     > 40.1749   =>   False\n",
            "FB     : 11.12     > 24.2761   =>   False\n",
            "NFLX   : 4.87      > 12.3212   =>   False\n",
            "MSFT   : 0.04      > 4.1296    =>   False\n"
          ]
        }
      ],
      "source": [
        "cointegration_test(st)"
      ]
    },
    {
      "cell_type": "code",
      "execution_count": 27,
      "metadata": {
        "colab": {
          "base_uri": "https://localhost:8080/"
        },
        "id": "2R-kMrSJ69wf",
        "outputId": "f22971ac-a981-4775-9f27-6c8bb5cb0f86"
      },
      "outputs": [
        {
          "name": "stdout",
          "output_type": "stream",
          "text": [
            "Lag Order = 1\n",
            "AIC :  -29.6920032365455\n",
            "BIC :  -27.96407725578375\n",
            "FPE :  1.406589540178159e-13\n",
            "HQIC:  -29.257434695648367 \n",
            "\n",
            "Lag Order = 2\n",
            "AIC :  -31.647710424892324\n",
            "BIC :  -28.672140097551463\n",
            "FPE :  3.5001736466367056e-14\n",
            "HQIC:  -30.94675552910096 \n",
            "\n",
            "Lag Order = 3\n",
            "AIC :  -72.41213723751562\n",
            "BIC :  -68.18430832292083\n",
            "FPE :  8.40831874928188e-31\n",
            "HQIC:  -71.49459013403003 \n",
            "\n",
            "Lag Order = 4\n",
            "AIC :  -334.7708061600513\n",
            "BIC :  -329.29427865550434\n",
            "FPE :  -2.784475205977963e-144\n",
            "HQIC:  -333.70173045603684 \n",
            "\n"
          ]
        }
      ],
      "source": [
        "# Выбираем порядок\n",
        "model = VAR(st.drop(columns='FB'),exog=st['FB'])\n",
        "for i in [1, 2, 3, 4]:\n",
        "    result = model.fit(i)\n",
        "    print('Lag Order =', i)\n",
        "    print('AIC : ', result.aic)\n",
        "    print('BIC : ', result.bic)\n",
        "    print('FPE : ', result.fpe)\n",
        "    print('HQIC: ', result.hqic, '\\n')"
      ]
    },
    {
      "cell_type": "code",
      "execution_count": 28,
      "metadata": {
        "colab": {
          "base_uri": "https://localhost:8080/",
          "height": 161
        },
        "id": "FZdOgW247FGg",
        "outputId": "f6486cd4-445f-41ae-bd51-d54a5ed8a4db"
      },
      "outputs": [
        {
          "data": {
            "text/html": [
              "<table class=\"simpletable\">\n",
              "<caption>VAR Order Selection (* highlights the minimums)</caption>\n",
              "<tr>\n",
              "  <td></td>      <th>AIC</th>         <th>BIC</th>         <th>FPE</th>        <th>HQIC</th>    \n",
              "</tr>\n",
              "<tr>\n",
              "  <th>0</th> <td>    -23.75</td>  <td>    -23.25</td>  <td> 4.861e-11</td>  <td>    -23.64</td> \n",
              "</tr>\n",
              "<tr>\n",
              "  <th>1</th> <td>    -29.34</td>  <td>    -27.60</td>  <td> 2.063e-13</td>  <td>    -28.96</td> \n",
              "</tr>\n",
              "<tr>\n",
              "  <th>2</th> <td>    -32.20</td>  <td>    -29.21</td>  <td> 2.271e-14</td>  <td>    -31.55</td> \n",
              "</tr>\n",
              "<tr>\n",
              "  <th>3</th> <td>    -72.41*</td> <td>    -68.18*</td> <td> 8.408e-31*</td> <td>    -71.49*</td>\n",
              "</tr>\n",
              "</table>"
            ],
            "text/latex": [
              "\\begin{center}\n",
              "\\begin{tabular}{lcccc}\n",
              "\\toprule\n",
              "           & \\textbf{AIC} & \\textbf{BIC} & \\textbf{FPE} & \\textbf{HQIC}  \\\\\n",
              "\\midrule\n",
              "\\textbf{0} &      -23.75  &      -23.25  &   4.861e-11  &       -23.64   \\\\\n",
              "\\textbf{1} &      -29.34  &      -27.60  &   2.063e-13  &       -28.96   \\\\\n",
              "\\textbf{2} &      -32.20  &      -29.21  &   2.271e-14  &       -31.55   \\\\\n",
              "\\textbf{3} &     -72.41*  &     -68.18*  &  8.408e-31*  &      -71.49*   \\\\\n",
              "\\bottomrule\n",
              "\\end{tabular}\n",
              "%\\caption{VAR Order Selection (* highlights the minimums)}\n",
              "\\end{center}"
            ],
            "text/plain": [
              "<class 'statsmodels.iolib.table.SimpleTable'>"
            ]
          },
          "execution_count": 28,
          "metadata": {},
          "output_type": "execute_result"
        }
      ],
      "source": [
        "x = model.select_order(maxlags = 3)\n",
        "x.summary()"
      ]
    },
    {
      "cell_type": "code",
      "execution_count": 29,
      "metadata": {
        "colab": {
          "base_uri": "https://localhost:8080/"
        },
        "id": "VmQJch5J7ITJ",
        "outputId": "bcf0c565-1974-458b-e14a-407f93683226"
      },
      "outputs": [
        {
          "name": "stdout",
          "output_type": "stream",
          "text": [
            "  Summary of Regression Results   \n",
            "==================================\n",
            "Model:                         VAR\n",
            "Method:                        OLS\n",
            "Date:           Wed, 16, Oct, 2024\n",
            "Time:                     16:32:44\n",
            "--------------------------------------------------------------------\n",
            "No. of Equations:         5.00000    BIC:                   -68.1843\n",
            "Nobs:                     21.0000    HQIC:                  -71.4946\n",
            "Log likelihood:           696.339    FPE:                8.40832e-31\n",
            "AIC:                     -72.4121    Det(Omega_mle):    -3.67148e-32\n",
            "--------------------------------------------------------------------\n",
            "Results for equation GOOG\n",
            "==========================================================================\n",
            "             coefficient       std. error           t-stat            prob\n",
            "--------------------------------------------------------------------------\n",
            "const           0.023176         0.800754            0.029           0.977\n",
            "FB              0.548056         0.353871            1.549           0.121\n",
            "L1.GOOG         0.479378         1.140432            0.420           0.674\n",
            "L1.AAPL         0.115008         0.387515            0.297           0.767\n",
            "L1.AMZN         0.343418         0.689800            0.498           0.619\n",
            "L1.NFLX        -0.107587         0.246342           -0.437           0.662\n",
            "L1.MSFT        -0.116211         0.606338           -0.192           0.848\n",
            "L2.GOOG         0.710927         0.854553            0.832           0.405\n",
            "L2.AAPL        -0.293729         0.230248           -1.276           0.202\n",
            "L2.AMZN        -0.392156         0.950406           -0.413           0.680\n",
            "L2.NFLX         0.127108         0.251047            0.506           0.613\n",
            "L2.MSFT         0.445381         0.817797            0.545           0.586\n",
            "L3.GOOG        -1.034024         0.689582           -1.499           0.134\n",
            "L3.AAPL         0.289055         0.213912            1.351           0.177\n",
            "L3.AMZN         1.029112         0.663515            1.551           0.121\n",
            "L3.NFLX        -0.436948         0.328234           -1.331           0.183\n",
            "L3.MSFT        -0.720477         0.855126           -0.843           0.399\n",
            "==========================================================================\n",
            "\n",
            "Results for equation AAPL\n",
            "==========================================================================\n",
            "             coefficient       std. error           t-stat            prob\n",
            "--------------------------------------------------------------------------\n",
            "const          -3.350505         1.510853           -2.218           0.027\n",
            "FB              2.133981         0.667680            3.196           0.001\n",
            "L1.GOOG         2.558364         2.151753            1.189           0.234\n",
            "L1.AAPL        -0.569417         0.731158           -0.779           0.436\n",
            "L1.AMZN         1.467972         1.301505            1.128           0.259\n",
            "L1.NFLX        -1.010257         0.464796           -2.174           0.030\n",
            "L1.MSFT         0.149391         1.144030            0.131           0.896\n",
            "L2.GOOG         0.937600         1.612359            0.582           0.561\n",
            "L2.AAPL        -0.182673         0.434430           -0.420           0.674\n",
            "L2.AMZN         1.173762         1.793213            0.655           0.513\n",
            "L2.NFLX        -0.061779         0.473672           -0.130           0.896\n",
            "L2.MSFT        -1.131057         1.543009           -0.733           0.464\n",
            "L3.GOOG        -0.636412         1.301095           -0.489           0.625\n",
            "L3.AAPL         0.082109         0.403606            0.203           0.839\n",
            "L3.AMZN         2.417841         1.251913            1.931           0.053\n",
            "L3.NFLX        -1.304949         0.619308           -2.107           0.035\n",
            "L3.MSFT        -1.436556         1.613440           -0.890           0.373\n",
            "==========================================================================\n",
            "\n",
            "Results for equation AMZN\n",
            "==========================================================================\n",
            "             coefficient       std. error           t-stat            prob\n",
            "--------------------------------------------------------------------------\n",
            "const          -1.206555         1.022496           -1.180           0.238\n",
            "FB              0.859151         0.451864            1.901           0.057\n",
            "L1.GOOG         0.837381         1.456236            0.575           0.565\n",
            "L1.AAPL        -0.305666         0.494824           -0.618           0.537\n",
            "L1.AMZN         0.486558         0.880816            0.552           0.581\n",
            "L1.NFLX        -0.095000         0.314559           -0.302           0.763\n",
            "L1.MSFT         0.231561         0.774242            0.299           0.765\n",
            "L2.GOOG         1.594204         1.091192            1.461           0.144\n",
            "L2.AAPL        -0.792310         0.294008           -2.695           0.007\n",
            "L2.AMZN        -0.378746         1.213588           -0.312           0.755\n",
            "L2.NFLX         0.111531         0.320566            0.348           0.728\n",
            "L2.MSFT         1.088135         1.044258            1.042           0.297\n",
            "L3.GOOG        -0.894196         0.880539           -1.016           0.310\n",
            "L3.AAPL         0.807828         0.273147            2.957           0.003\n",
            "L3.AMZN         1.451007         0.847254            1.713           0.087\n",
            "L3.NFLX        -0.351712         0.419128           -0.839           0.401\n",
            "L3.MSFT        -2.205673         1.091924           -2.020           0.043\n",
            "==========================================================================\n",
            "\n",
            "Results for equation NFLX\n",
            "==========================================================================\n",
            "             coefficient       std. error           t-stat            prob\n",
            "--------------------------------------------------------------------------\n",
            "const          -0.771527         1.020458           -0.756           0.450\n",
            "FB              1.907291         0.450964            4.229           0.000\n",
            "L1.GOOG         3.012050         1.453334            2.073           0.038\n",
            "L1.AAPL        -1.364557         0.493838           -2.763           0.006\n",
            "L1.AMZN        -0.481211         0.879061           -0.547           0.584\n",
            "L1.NFLX        -0.057168         0.313932           -0.182           0.856\n",
            "L1.MSFT         2.887241         0.772699            3.737           0.000\n",
            "L2.GOOG         1.632418         1.089017            1.499           0.134\n",
            "L2.AAPL        -1.348756         0.293422           -4.597           0.000\n",
            "L2.AMZN         1.616779         1.211170            1.335           0.182\n",
            "L2.NFLX        -1.427954         0.319927           -4.463           0.000\n",
            "L2.MSFT         0.957280         1.042177            0.919           0.358\n",
            "L3.GOOG        -1.419682         0.878784           -1.616           0.106\n",
            "L3.AAPL         1.332165         0.272603            4.887           0.000\n",
            "L3.AMZN         3.387565         0.845565            4.006           0.000\n",
            "L3.NFLX        -0.605942         0.418292           -1.449           0.147\n",
            "L3.MSFT        -7.347305         1.089747           -6.742           0.000\n",
            "==========================================================================\n",
            "\n",
            "Results for equation MSFT\n",
            "==========================================================================\n",
            "             coefficient       std. error           t-stat            prob\n",
            "--------------------------------------------------------------------------\n",
            "const          -0.868752         0.652532           -1.331           0.183\n",
            "FB              0.359524         0.288369            1.247           0.212\n",
            "L1.GOOG        -0.030852         0.929334           -0.033           0.974\n",
            "L1.AAPL        -0.083693         0.315785           -0.265           0.791\n",
            "L1.AMZN         0.183573         0.562115            0.327           0.744\n",
            "L1.NFLX         0.063878         0.200744            0.318           0.750\n",
            "L1.MSFT         0.571272         0.494102            1.156           0.248\n",
            "L2.GOOG         1.575925         0.696372            2.263           0.024\n",
            "L2.AAPL        -0.439061         0.187629           -2.340           0.019\n",
            "L2.AMZN        -0.748119         0.774482           -0.966           0.334\n",
            "L2.NFLX         0.046023         0.204577            0.225           0.822\n",
            "L2.MSFT         1.425133         0.666420            2.138           0.032\n",
            "L3.GOOG        -0.606323         0.561938           -1.079           0.281\n",
            "L3.AAPL         0.284520         0.174316            1.632           0.103\n",
            "L3.AMZN         1.067318         0.540697            1.974           0.048\n",
            "L3.NFLX        -0.393599         0.267477           -1.472           0.141\n",
            "L3.MSFT        -1.311567         0.696839           -1.882           0.060\n",
            "==========================================================================\n",
            "\n",
            "Correlation matrix of residuals\n",
            "            GOOG      AAPL      AMZN      NFLX      MSFT\n",
            "GOOG    1.000000  0.929237  0.951427  0.319057  0.505068\n",
            "AAPL    0.929237  1.000000  0.978105  0.326774  0.569193\n",
            "AMZN    0.951427  0.978105  1.000000  0.454304  0.565746\n",
            "NFLX    0.319057  0.326774  0.454304  1.000000  0.722223\n",
            "MSFT    0.505068  0.569193  0.565746  0.722223  1.000000\n",
            "\n",
            "\n",
            "\n"
          ]
        }
      ],
      "source": [
        "model_fitted = model.fit(3)\n",
        "print(model_fitted.summary())"
      ]
    },
    {
      "cell_type": "code",
      "execution_count": 30,
      "metadata": {
        "id": "8PWt2hiW_VGs"
      },
      "outputs": [],
      "source": [
        "st.to_csv('st.csv',index=True, sep=',')"
      ]
    },
    {
      "cell_type": "markdown",
      "metadata": {
        "id": "8mqVYMqlUsab"
      },
      "source": [
        "### Downloading data with API and JSON"
      ]
    },
    {
      "cell_type": "code",
      "execution_count": 33,
      "metadata": {
        "colab": {
          "base_uri": "https://localhost:8080/"
        },
        "id": "PfgfFc2_653o",
        "outputId": "5a2ed762-1141-4b11-c6e2-5413fc638b5c"
      },
      "outputs": [
        {
          "name": "stdout",
          "output_type": "stream",
          "text": [
            "{'CharCode': 'EUR',\n",
            " 'ID': 'R01239',\n",
            " 'Name': 'Евро',\n",
            " 'Nominal': 1,\n",
            " 'NumCode': '978',\n",
            " 'Previous': 105.4854,\n",
            " 'Value': 105.6757}\n"
          ]
        }
      ],
      "source": [
        "from pprint import pprint\n",
        "\n",
        "import requests\n",
        "\n",
        "data = requests.get('https://www.cbr-xml-daily.ru/daily_json.js').json()\n",
        "pprint(data['Valute']['EUR'])\n",
        "#print(data['Valute']['EUR'])"
      ]
    },
    {
      "cell_type": "code",
      "execution_count": 34,
      "metadata": {
        "colab": {
          "base_uri": "https://localhost:8080/"
        },
        "id": "-m5oS3_waD5R",
        "outputId": "3e3b5ede-3fd7-4fb2-f53a-3426c95c642e"
      },
      "outputs": [
        {
          "data": {
            "text/plain": [
              "dict_keys(['Date', 'PreviousDate', 'PreviousURL', 'Timestamp', 'Valute'])"
            ]
          },
          "execution_count": 34,
          "metadata": {},
          "output_type": "execute_result"
        }
      ],
      "source": [
        "data.keys()"
      ]
    },
    {
      "cell_type": "code",
      "execution_count": 35,
      "metadata": {
        "colab": {
          "base_uri": "https://localhost:8080/"
        },
        "id": "SZEAJUpXazu8",
        "outputId": "680dfa48-dbac-494b-f50d-aa2ce98b1c64"
      },
      "outputs": [
        {
          "data": {
            "text/plain": [
              "105.6757"
            ]
          },
          "execution_count": 35,
          "metadata": {},
          "output_type": "execute_result"
        }
      ],
      "source": [
        "data['Valute']['EUR']['Value']"
      ]
    },
    {
      "cell_type": "code",
      "execution_count": 36,
      "metadata": {
        "colab": {
          "base_uri": "https://localhost:8080/"
        },
        "id": "uYdvgTg4a4UO",
        "outputId": "6b369825-aad4-43af-a513-58779d2cc4b0"
      },
      "outputs": [
        {
          "name": "stdout",
          "output_type": "stream",
          "text": [
            "{'CharCode': 'EUR',\n",
            " 'ID': 'R01239',\n",
            " 'Name': 'Евро',\n",
            " 'Nominal': 1,\n",
            " 'NumCode': '978',\n",
            " 'Previous': 105.4854,\n",
            " 'Value': 105.6757}\n"
          ]
        }
      ],
      "source": [
        "from pprint import pprint\n",
        "\n",
        "import requests\n",
        "\n",
        "data = requests.get('https://www.cbr-xml-daily.ru/daily_json.js').json()\n",
        "pprint(data['Valute']['EUR'])"
      ]
    },
    {
      "cell_type": "code",
      "execution_count": 37,
      "metadata": {
        "colab": {
          "base_uri": "https://localhost:8080/"
        },
        "id": "1915XNtI0bBD",
        "outputId": "81c45a27-579c-42ed-b436-777ee8800647"
      },
      "outputs": [
        {
          "name": "stdout",
          "output_type": "stream",
          "text": [
            "{'Евро': 105.6757}\n",
            "{'Доллар США': 97.0121}\n",
            "{'Китайский юань': 13.5683}\n",
            "{'Фунт стерлингов Соединенного королевства': 126.6687}\n"
          ]
        }
      ],
      "source": [
        "for i in ['EUR','USD','CNY','GBP']: print({data['Valute'][i]['Name']:data['Valute'][i]['Value']})"
      ]
    },
    {
      "cell_type": "code",
      "execution_count": 48,
      "metadata": {
        "id": "o0hUEVKXN61T"
      },
      "outputs": [],
      "source": [
        "import yfinance as yf\n",
        "import requests_cache\n",
        "session = requests_cache.CachedSession('yfinance.cache')\n",
        "session.headers['User-agent'] = 'my-program/1.0'\n",
        "ticker = yf.Ticker('TSLA', session=session)\n",
        "# The scraped response will be stored in the cache\n",
        "#ticker.actions"
      ]
    },
    {
      "cell_type": "code",
      "execution_count": 49,
      "metadata": {
        "colab": {
          "base_uri": "https://localhost:8080/",
          "height": 355
        },
        "id": "phKCvYHhPjiK",
        "outputId": "7273523a-1b43-4803-b4eb-5ecde3361b7b"
      },
      "outputs": [
        {
          "data": {
            "text/plain": [
              "{'address1': '1 Tesla Road',\n",
              " 'city': 'Austin',\n",
              " 'state': 'TX',\n",
              " 'zip': '78725',\n",
              " 'country': 'United States',\n",
              " 'phone': '512 516 8177',\n",
              " 'website': 'https://www.tesla.com',\n",
              " 'industry': 'Auto Manufacturers',\n",
              " 'industryKey': 'auto-manufacturers',\n",
              " 'industryDisp': 'Auto Manufacturers',\n",
              " 'sector': 'Consumer Cyclical',\n",
              " 'sectorKey': 'consumer-cyclical',\n",
              " 'sectorDisp': 'Consumer Cyclical',\n",
              " 'longBusinessSummary': 'Tesla, Inc. designs, develops, manufactures, leases, and sells electric vehicles, and energy generation and storage systems in the United States, China, and internationally. The company operates in two segments, Automotive, and Energy Generation and Storage. The Automotive segment offers electric vehicles, as well as sells automotive regulatory credits; and non-warranty after-sales vehicle, used vehicles, body shop and parts, supercharging, retail merchandise, and vehicle insurance services. This segment also provides sedans and sport utility vehicles through direct and used vehicle sales, a network of Tesla Superchargers, and in-app upgrades; purchase financing and leasing services; services for electric vehicles through its company-owned service locations and Tesla mobile service technicians; and vehicle limited warranties and extended service plans. The Energy Generation and Storage segment engages in the design, manufacture, installation, sale, and leasing of solar energy generation and energy storage products, and related services to residential, commercial, and industrial customers and utilities through its website, stores, and galleries, as well as through a network of channel partners; and provision of service and repairs to its energy product customers, including under warranty, as well as various financing options to its solar customers. The company was formerly known as Tesla Motors, Inc. and changed its name to Tesla, Inc. in February 2017. Tesla, Inc. was incorporated in 2003 and is headquartered in Austin, Texas.',\n",
              " 'fullTimeEmployees': 140473,\n",
              " 'companyOfficers': [{'maxAge': 1,\n",
              "   'name': 'Mr. Elon R. Musk',\n",
              "   'age': 51,\n",
              "   'title': 'Co-Founder, Technoking of Tesla, CEO & Director',\n",
              "   'yearBorn': 1972,\n",
              "   'fiscalYear': 2023,\n",
              "   'exercisedValue': 1861335,\n",
              "   'unexercisedValue': 68433694720},\n",
              "  {'maxAge': 1,\n",
              "   'name': 'Mr. Vaibhav  Taneja',\n",
              "   'age': 45,\n",
              "   'title': 'Chief Financial Officer',\n",
              "   'yearBorn': 1978,\n",
              "   'fiscalYear': 2023,\n",
              "   'totalPay': 278000,\n",
              "   'exercisedValue': 8517957,\n",
              "   'unexercisedValue': 202075632},\n",
              "  {'maxAge': 1,\n",
              "   'name': 'Mr. Xiaotong  Zhu',\n",
              "   'age': 43,\n",
              "   'title': 'Senior Vice President of Automotive',\n",
              "   'yearBorn': 1980,\n",
              "   'fiscalYear': 2023,\n",
              "   'totalPay': 926877,\n",
              "   'exercisedValue': 0,\n",
              "   'unexercisedValue': 344144320},\n",
              "  {'maxAge': 1,\n",
              "   'name': 'Travis  Axelrod',\n",
              "   'title': 'Head of Investor Relations',\n",
              "   'fiscalYear': 2023,\n",
              "   'exercisedValue': 0,\n",
              "   'unexercisedValue': 0},\n",
              "  {'maxAge': 1,\n",
              "   'name': 'Brian  Scelfo',\n",
              "   'title': 'Senior Director of Corporate Development',\n",
              "   'fiscalYear': 2023,\n",
              "   'exercisedValue': 0,\n",
              "   'unexercisedValue': 0},\n",
              "  {'maxAge': 1,\n",
              "   'name': 'Mr. Franz  von Holzhausen',\n",
              "   'title': 'Chief Designer',\n",
              "   'fiscalYear': 2023,\n",
              "   'exercisedValue': 0,\n",
              "   'unexercisedValue': 0},\n",
              "  {'maxAge': 1,\n",
              "   'name': 'Mr. John  Walker',\n",
              "   'age': 60,\n",
              "   'title': 'Vice President of Sales - North America',\n",
              "   'yearBorn': 1963,\n",
              "   'fiscalYear': 2023,\n",
              "   'totalPay': 121550,\n",
              "   'exercisedValue': 0,\n",
              "   'unexercisedValue': 0},\n",
              "  {'maxAge': 1,\n",
              "   'name': 'Mr. Peter  Bannon',\n",
              "   'title': 'Chip Architect',\n",
              "   'fiscalYear': 2023,\n",
              "   'exercisedValue': 0,\n",
              "   'unexercisedValue': 0},\n",
              "  {'maxAge': 1,\n",
              "   'name': 'Mr. Turner  Caldwell',\n",
              "   'title': 'Engineering Manager',\n",
              "   'fiscalYear': 2023,\n",
              "   'exercisedValue': 0,\n",
              "   'unexercisedValue': 0},\n",
              "  {'maxAge': 1,\n",
              "   'name': 'Mr. Rodney D. Westmoreland Jr.',\n",
              "   'title': 'Director of Construction Management',\n",
              "   'fiscalYear': 2023,\n",
              "   'exercisedValue': 0,\n",
              "   'unexercisedValue': 0}],\n",
              " 'auditRisk': 7,\n",
              " 'boardRisk': 9,\n",
              " 'compensationRisk': 10,\n",
              " 'shareHolderRightsRisk': 9,\n",
              " 'overallRisk': 10,\n",
              " 'governanceEpochDate': 1727740800,\n",
              " 'compensationAsOfEpochDate': 1703980800,\n",
              " 'maxAge': 86400,\n",
              " 'priceHint': 2,\n",
              " 'previousClose': 219.57,\n",
              " 'open': 221.4,\n",
              " 'dayLow': 218.93,\n",
              " 'dayHigh': 222.8199,\n",
              " 'regularMarketPreviousClose': 219.57,\n",
              " 'regularMarketOpen': 221.4,\n",
              " 'regularMarketDayLow': 218.93,\n",
              " 'regularMarketDayHigh': 222.8199,\n",
              " 'beta': 2.297,\n",
              " 'trailingPE': 61.935394,\n",
              " 'forwardPE': 72.29181,\n",
              " 'volume': 6934176,\n",
              " 'regularMarketVolume': 6934176,\n",
              " 'averageVolume': 83302559,\n",
              " 'averageVolume10days': 82686590,\n",
              " 'averageDailyVolume10Day': 82686590,\n",
              " 'bid': 220.17,\n",
              " 'ask': 221.2,\n",
              " 'bidSize': 200,\n",
              " 'askSize': 800,\n",
              " 'marketCap': 704386170880,\n",
              " 'fiftyTwoWeekLow': 138.8,\n",
              " 'fiftyTwoWeekHigh': 271.0,\n",
              " 'priceToSalesTrailing12Months': 7.389855,\n",
              " 'fiftyDayAverage': 225.9498,\n",
              " 'twoHundredDayAverage': 201.9569,\n",
              " 'currency': 'USD',\n",
              " 'enterpriseValue': 684037177344,\n",
              " 'profitMargins': 0.12996,\n",
              " 'floatShares': 2777644002,\n",
              " 'sharesOutstanding': 3194639872,\n",
              " 'sharesShort': 74332630,\n",
              " 'sharesShortPriorMonth': 78698016,\n",
              " 'sharesShortPreviousMonthDate': 1724976000,\n",
              " 'dateShortInterest': 1727654400,\n",
              " 'sharesPercentSharesOut': 0.0233,\n",
              " 'heldPercentInsiders': 0.12998,\n",
              " 'heldPercentInstitutions': 0.47090998,\n",
              " 'shortRatio': 0.93,\n",
              " 'shortPercentOfFloat': 0.026700001,\n",
              " 'impliedSharesOutstanding': 3194639872,\n",
              " 'bookValue': 20.81,\n",
              " 'priceToBook': 10.595387,\n",
              " 'lastFiscalYearEnd': 1703980800,\n",
              " 'nextFiscalYearEnd': 1735603200,\n",
              " 'mostRecentQuarter': 1719705600,\n",
              " 'earningsQuarterlyGrowth': -0.453,\n",
              " 'netIncomeToCommon': 12389999616,\n",
              " 'trailingEps': 3.56,\n",
              " 'forwardEps': 3.05,\n",
              " 'pegRatio': 67.34,\n",
              " 'lastSplitFactor': '3:1',\n",
              " 'lastSplitDate': 1661385600,\n",
              " 'enterpriseToRevenue': 7.176,\n",
              " 'enterpriseToEbitda': 56.17,\n",
              " '52WeekChange': -0.095228255,\n",
              " 'SandP52WeekChange': 0.3478098,\n",
              " 'exchange': 'NMS',\n",
              " 'quoteType': 'EQUITY',\n",
              " 'symbol': 'TSLA',\n",
              " 'underlyingSymbol': 'TSLA',\n",
              " 'shortName': 'Tesla, Inc.',\n",
              " 'longName': 'Tesla, Inc.',\n",
              " 'firstTradeDateEpochUtc': 1277818200,\n",
              " 'timeZoneFullName': 'America/New_York',\n",
              " 'timeZoneShortName': 'EDT',\n",
              " 'uuid': 'ec367bc4-f92c-397c-ac81-bf7b43cffaf7',\n",
              " 'messageBoardId': 'finmb_27444752',\n",
              " 'gmtOffSetMilliseconds': -14400000,\n",
              " 'currentPrice': 220.49,\n",
              " 'targetHighPrice': 310.0,\n",
              " 'targetLowPrice': 24.86,\n",
              " 'targetMeanPrice': 210.27,\n",
              " 'targetMedianPrice': 221.0,\n",
              " 'recommendationMean': 2.8,\n",
              " 'recommendationKey': 'hold',\n",
              " 'numberOfAnalystOpinions': 45,\n",
              " 'totalCash': 30720000000,\n",
              " 'totalCashPerShare': 9.616,\n",
              " 'ebitda': 12177999872,\n",
              " 'totalDebt': 12515000320,\n",
              " 'quickRatio': 1.249,\n",
              " 'currentRatio': 1.911,\n",
              " 'totalRevenue': 95317999616,\n",
              " 'debtToEquity': 18.606,\n",
              " 'revenuePerShare': 29.932,\n",
              " 'returnOnAssets': 0.044159997,\n",
              " 'returnOnEquity': 0.20861,\n",
              " 'freeCashflow': -907249984,\n",
              " 'operatingCashflow': 11532000256,\n",
              " 'earningsGrowth': -0.462,\n",
              " 'revenueGrowth': 0.023,\n",
              " 'grossMargins': 0.17719999,\n",
              " 'ebitdaMargins': 0.12776,\n",
              " 'operatingMargins': 0.0858,\n",
              " 'financialCurrency': 'USD',\n",
              " 'trailingPegRatio': 3.457}"
            ]
          },
          "execution_count": 49,
          "metadata": {},
          "output_type": "execute_result"
        }
      ],
      "source": [
        "TSLA = yf.Ticker(\"TSLA\")\n",
        "# get stock info\n",
        "TSLA.info"
      ]
    },
    {
      "cell_type": "code",
      "execution_count": 50,
      "metadata": {
        "colab": {
          "base_uri": "https://localhost:8080/",
          "height": 496
        },
        "id": "j_JM5qRBQ2ps",
        "outputId": "b2fedcbb-73ae-4a99-d3c3-4f0270063fac"
      },
      "outputs": [
        {
          "name": "stdout",
          "output_type": "stream",
          "text": [
            "<class 'pandas.core.frame.DataFrame'>\n",
            "DatetimeIndex: 3599 entries, 2010-06-29 00:00:00-04:00 to 2024-10-15 00:00:00-04:00\n",
            "Data columns (total 7 columns):\n",
            " #   Column        Non-Null Count  Dtype  \n",
            "---  ------        --------------  -----  \n",
            " 0   Open          3599 non-null   float64\n",
            " 1   High          3599 non-null   float64\n",
            " 2   Low           3599 non-null   float64\n",
            " 3   Close         3599 non-null   float64\n",
            " 4   Volume        3599 non-null   int64  \n",
            " 5   Dividends     3599 non-null   float64\n",
            " 6   Stock Splits  3599 non-null   float64\n",
            "dtypes: float64(6), int64(1)\n",
            "memory usage: 224.9 KB\n"
          ]
        },
        {
          "data": {
            "text/html": [
              "<div>\n",
              "<style scoped>\n",
              "    .dataframe tbody tr th:only-of-type {\n",
              "        vertical-align: middle;\n",
              "    }\n",
              "\n",
              "    .dataframe tbody tr th {\n",
              "        vertical-align: top;\n",
              "    }\n",
              "\n",
              "    .dataframe thead th {\n",
              "        text-align: right;\n",
              "    }\n",
              "</style>\n",
              "<table border=\"1\" class=\"dataframe\">\n",
              "  <thead>\n",
              "    <tr style=\"text-align: right;\">\n",
              "      <th></th>\n",
              "      <th>Open</th>\n",
              "      <th>High</th>\n",
              "      <th>Low</th>\n",
              "      <th>Close</th>\n",
              "      <th>Volume</th>\n",
              "      <th>Dividends</th>\n",
              "      <th>Stock Splits</th>\n",
              "    </tr>\n",
              "    <tr>\n",
              "      <th>Date</th>\n",
              "      <th></th>\n",
              "      <th></th>\n",
              "      <th></th>\n",
              "      <th></th>\n",
              "      <th></th>\n",
              "      <th></th>\n",
              "      <th></th>\n",
              "    </tr>\n",
              "  </thead>\n",
              "  <tbody>\n",
              "    <tr>\n",
              "      <th>2024-10-09 00:00:00-04:00</th>\n",
              "      <td>243.820007</td>\n",
              "      <td>247.429993</td>\n",
              "      <td>239.509995</td>\n",
              "      <td>241.050003</td>\n",
              "      <td>66289500</td>\n",
              "      <td>0.0</td>\n",
              "      <td>0.0</td>\n",
              "    </tr>\n",
              "    <tr>\n",
              "      <th>2024-10-10 00:00:00-04:00</th>\n",
              "      <td>241.809998</td>\n",
              "      <td>242.789993</td>\n",
              "      <td>232.339996</td>\n",
              "      <td>238.770004</td>\n",
              "      <td>83087100</td>\n",
              "      <td>0.0</td>\n",
              "      <td>0.0</td>\n",
              "    </tr>\n",
              "    <tr>\n",
              "      <th>2024-10-11 00:00:00-04:00</th>\n",
              "      <td>220.130005</td>\n",
              "      <td>223.339996</td>\n",
              "      <td>214.380005</td>\n",
              "      <td>217.800003</td>\n",
              "      <td>142628900</td>\n",
              "      <td>0.0</td>\n",
              "      <td>0.0</td>\n",
              "    </tr>\n",
              "    <tr>\n",
              "      <th>2024-10-14 00:00:00-04:00</th>\n",
              "      <td>220.130005</td>\n",
              "      <td>221.910004</td>\n",
              "      <td>213.740005</td>\n",
              "      <td>219.160004</td>\n",
              "      <td>86291900</td>\n",
              "      <td>0.0</td>\n",
              "      <td>0.0</td>\n",
              "    </tr>\n",
              "    <tr>\n",
              "      <th>2024-10-15 00:00:00-04:00</th>\n",
              "      <td>220.009995</td>\n",
              "      <td>224.259995</td>\n",
              "      <td>217.119995</td>\n",
              "      <td>219.570007</td>\n",
              "      <td>62865700</td>\n",
              "      <td>0.0</td>\n",
              "      <td>0.0</td>\n",
              "    </tr>\n",
              "  </tbody>\n",
              "</table>\n",
              "</div>"
            ],
            "text/plain": [
              "                                 Open        High         Low       Close  \\\n",
              "Date                                                                        \n",
              "2024-10-09 00:00:00-04:00  243.820007  247.429993  239.509995  241.050003   \n",
              "2024-10-10 00:00:00-04:00  241.809998  242.789993  232.339996  238.770004   \n",
              "2024-10-11 00:00:00-04:00  220.130005  223.339996  214.380005  217.800003   \n",
              "2024-10-14 00:00:00-04:00  220.130005  221.910004  213.740005  219.160004   \n",
              "2024-10-15 00:00:00-04:00  220.009995  224.259995  217.119995  219.570007   \n",
              "\n",
              "                              Volume  Dividends  Stock Splits  \n",
              "Date                                                           \n",
              "2024-10-09 00:00:00-04:00   66289500        0.0           0.0  \n",
              "2024-10-10 00:00:00-04:00   83087100        0.0           0.0  \n",
              "2024-10-11 00:00:00-04:00  142628900        0.0           0.0  \n",
              "2024-10-14 00:00:00-04:00   86291900        0.0           0.0  \n",
              "2024-10-15 00:00:00-04:00   62865700        0.0           0.0  "
            ]
          },
          "execution_count": 50,
          "metadata": {},
          "output_type": "execute_result"
        }
      ],
      "source": [
        "# get historical market data\n",
        "TSLA_hist = TSLA.history(interval='1d',period=\"max\")\n",
        "TSLA_hist.info()\n",
        "TSLA_hist.tail()"
      ]
    },
    {
      "cell_type": "code",
      "execution_count": 51,
      "metadata": {
        "colab": {
          "base_uri": "https://localhost:8080/",
          "height": 276
        },
        "id": "Bd1IcLYPQ9XK",
        "outputId": "b807f6b9-7994-4c12-ba63-6bcd1f46327d"
      },
      "outputs": [
        {
          "data": {
            "image/png": "[encoded data removed]",
            "text/plain": [
              "<Figure size 1600x400 with 1 Axes>"
            ]
          },
          "metadata": {},
          "output_type": "display_data"
        }
      ],
      "source": [
        "plot_series(TSLA_hist['Open'],TSLA_hist['High'],TSLA_hist['Low'],TSLA_hist['Close'],TSLA_hist['Volume'],TSLA_hist['Dividends'],TSLA_hist['Stock Splits']);"
      ]
    },
    {
      "cell_type": "code",
      "execution_count": 52,
      "metadata": {
        "colab": {
          "base_uri": "https://localhost:8080/"
        },
        "id": "dntm1CdxSR2y",
        "outputId": "acd06eec-5761-4044-d01c-c230445183f4"
      },
      "outputs": [
        {
          "name": "stderr",
          "output_type": "stream",
          "text": [
            "/var/folders/l2/mh6902w91rxdry1pssd9vxlw0000gn/T/ipykernel_18417/1200935974.py:2: UserWarning: Converting to PeriodArray/Index representation will drop timezone information.\n",
            "  TSLA_hist.index = TSLA_hist.index.to_period('D')\n"
          ]
        },
        {
          "data": {
            "text/plain": [
              "PeriodIndex(['2010-06-29', '2010-06-30', '2010-07-01', '2010-07-02',\n",
              "             '2010-07-06', '2010-07-07', '2010-07-08', '2010-07-09',\n",
              "             '2010-07-12', '2010-07-13',\n",
              "             ...\n",
              "             '2024-10-02', '2024-10-03', '2024-10-04', '2024-10-07',\n",
              "             '2024-10-08', '2024-10-09', '2024-10-10', '2024-10-11',\n",
              "             '2024-10-14', '2024-10-15'],\n",
              "            dtype='period[D]', length=3599)"
            ]
          },
          "execution_count": 52,
          "metadata": {},
          "output_type": "execute_result"
        }
      ],
      "source": [
        "#FB_hist = FB_hist.sort_values(by='Date')\n",
        "TSLA_hist.index = TSLA_hist.index.to_period('D')\n",
        "TSLA_hist.index"
      ]
    },
    {
      "cell_type": "code",
      "execution_count": 53,
      "metadata": {
        "colab": {
          "base_uri": "https://localhost:8080/"
        },
        "id": "-bAUAjAISzBh",
        "outputId": "3b57bc8e-33e6-48e6-d53b-170c293fca2f"
      },
      "outputs": [
        {
          "name": "stdout",
          "output_type": "stream",
          "text": [
            "<class 'pandas.core.frame.DataFrame'>\n",
            "PeriodIndex: 3599 entries, 2010-06-29 to 2024-10-15\n",
            "Freq: D\n",
            "Data columns (total 7 columns):\n",
            " #   Column        Non-Null Count  Dtype  \n",
            "---  ------        --------------  -----  \n",
            " 0   Open          3599 non-null   float64\n",
            " 1   High          3599 non-null   float64\n",
            " 2   Low           3599 non-null   float64\n",
            " 3   Close         3599 non-null   float64\n",
            " 4   Volume        3599 non-null   int64  \n",
            " 5   Dividends     3599 non-null   float64\n",
            " 6   Stock Splits  3599 non-null   float64\n",
            "dtypes: float64(6), int64(1)\n",
            "memory usage: 224.9 KB\n"
          ]
        }
      ],
      "source": [
        "TSLA_hist.info()"
      ]
    },
    {
      "cell_type": "code",
      "execution_count": 54,
      "metadata": {
        "colab": {
          "base_uri": "https://localhost:8080/",
          "height": 276
        },
        "id": "ZHgDk8t2TAgJ",
        "outputId": "0e0f302f-5310-465c-f368-231aa418ff4e"
      },
      "outputs": [
        {
          "data": {
            "image/png": "[encoded data removed]",
            "text/plain": [
              "<Figure size 1600x400 with 1 Axes>"
            ]
          },
          "metadata": {},
          "output_type": "display_data"
        }
      ],
      "source": [
        "TSLA_hist = TSLA_hist.resample('M', convention='end').mean()\n",
        "plot_series(TSLA_hist['Open'],TSLA_hist['High'],TSLA_hist['Low'],TSLA_hist['Close'],TSLA_hist['Volume'],TSLA_hist['Dividends'],TSLA_hist['Stock Splits']);"
      ]
    },
    {
      "cell_type": "code",
      "execution_count": 55,
      "metadata": {
        "colab": {
          "base_uri": "https://localhost:8080/",
          "height": 373
        },
        "id": "ZY12_cmC5jU1",
        "outputId": "6f735bd8-da73-49ab-bd28-085a3051c2d1"
      },
      "outputs": [
        {
          "data": {
            "text/html": [
              "<div>\n",
              "<style scoped>\n",
              "    .dataframe tbody tr th:only-of-type {\n",
              "        vertical-align: middle;\n",
              "    }\n",
              "\n",
              "    .dataframe tbody tr th {\n",
              "        vertical-align: top;\n",
              "    }\n",
              "\n",
              "    .dataframe thead th {\n",
              "        text-align: right;\n",
              "    }\n",
              "</style>\n",
              "<table border=\"1\" class=\"dataframe\">\n",
              "  <thead>\n",
              "    <tr style=\"text-align: right;\">\n",
              "      <th></th>\n",
              "      <th>period</th>\n",
              "      <th>strongBuy</th>\n",
              "      <th>buy</th>\n",
              "      <th>hold</th>\n",
              "      <th>sell</th>\n",
              "      <th>strongSell</th>\n",
              "    </tr>\n",
              "  </thead>\n",
              "  <tbody>\n",
              "    <tr>\n",
              "      <th>0</th>\n",
              "      <td>0m</td>\n",
              "      <td>4</td>\n",
              "      <td>4</td>\n",
              "      <td>8</td>\n",
              "      <td>6</td>\n",
              "      <td>1</td>\n",
              "    </tr>\n",
              "    <tr>\n",
              "      <th>1</th>\n",
              "      <td>-1m</td>\n",
              "      <td>7</td>\n",
              "      <td>12</td>\n",
              "      <td>20</td>\n",
              "      <td>8</td>\n",
              "      <td>4</td>\n",
              "    </tr>\n",
              "    <tr>\n",
              "      <th>2</th>\n",
              "      <td>-2m</td>\n",
              "      <td>7</td>\n",
              "      <td>12</td>\n",
              "      <td>20</td>\n",
              "      <td>8</td>\n",
              "      <td>4</td>\n",
              "    </tr>\n",
              "    <tr>\n",
              "      <th>3</th>\n",
              "      <td>-3m</td>\n",
              "      <td>7</td>\n",
              "      <td>12</td>\n",
              "      <td>21</td>\n",
              "      <td>6</td>\n",
              "      <td>4</td>\n",
              "    </tr>\n",
              "  </tbody>\n",
              "</table>\n",
              "</div>"
            ],
            "text/plain": [
              "  period  strongBuy  buy  hold  sell  strongSell\n",
              "0     0m          4    4     8     6           1\n",
              "1    -1m          7   12    20     8           4\n",
              "2    -2m          7   12    20     8           4\n",
              "3    -3m          7   12    21     6           4"
            ]
          },
          "execution_count": 55,
          "metadata": {},
          "output_type": "execute_result"
        }
      ],
      "source": [
        "import yfinance as yf\n",
        "\n",
        "TSLA = yf.Ticker(\"TSLA\")\n",
        "\n",
        "\n",
        "# show analysts recommendations\n",
        "TSLA.recommendations\n",
        "\n"
      ]
    },
    {
      "cell_type": "code",
      "execution_count": 59,
      "metadata": {
        "colab": {
          "base_uri": "https://localhost:8080/"
        },
        "id": "5GPhvRBfpXxz",
        "outputId": "6f62b829-f95b-4a76-a647-3e34a58abf7d"
      },
      "outputs": [
        {
          "name": "stdout",
          "output_type": "stream",
          "text": [
            "Options(calls=          contractSymbol             lastTradeDate  strike  lastPrice    bid  \\\n",
            "0    TSLA241018C00025000 2024-10-15 13:34:30+00:00    25.0     197.55    0.0   \n",
            "1    TSLA241018C00030000 2024-10-15 16:32:33+00:00    30.0     190.74    0.0   \n",
            "2    TSLA241018C00035000 2024-09-30 17:55:01+00:00    35.0     224.95    0.0   \n",
            "3    TSLA241018C00040000 2024-10-07 19:20:39+00:00    40.0     202.20    0.0   \n",
            "4    TSLA241018C00045000 2024-05-09 18:07:54+00:00    45.0     128.50  133.3   \n",
            "..                   ...                       ...     ...        ...    ...   \n",
            "123  TSLA241018C00500000 2024-10-10 13:30:10+00:00   500.0       0.01    0.0   \n",
            "124  TSLA241018C00510000 2024-10-07 15:43:07+00:00   510.0       0.01    0.0   \n",
            "125  TSLA241018C00520000 2024-10-14 13:30:01+00:00   520.0       0.01    0.0   \n",
            "126  TSLA241018C00530000 2024-10-14 17:18:42+00:00   530.0       0.01    0.0   \n",
            "127  TSLA241018C00540000 2024-10-15 18:25:05+00:00   540.0       0.01    0.0   \n",
            "\n",
            "        ask  change  percentChange  volume  openInterest  impliedVolatility  \\\n",
            "0      0.00     0.0            0.0       1           467           0.000010   \n",
            "1      0.00     0.0            0.0       5           159           0.000010   \n",
            "2      0.00     0.0            0.0       4           107           0.000010   \n",
            "3      0.00     0.0            0.0       4             7           0.000010   \n",
            "4    134.05     0.0            0.0       5             3           0.000010   \n",
            "..      ...     ...            ...     ...           ...                ...   \n",
            "123    0.00     0.0            0.0       2         14293           0.500005   \n",
            "124    0.00     0.0            0.0     205          1603           0.500005   \n",
            "125    0.00     0.0            0.0      20          1614           0.500005   \n",
            "126    0.00     0.0            0.0       1          2943           0.500005   \n",
            "127    0.00     0.0            0.0       2          8668           0.500005   \n",
            "\n",
            "     inTheMoney contractSize currency  \n",
            "0          True      REGULAR      USD  \n",
            "1          True      REGULAR      USD  \n",
            "2          True      REGULAR      USD  \n",
            "3          True      REGULAR      USD  \n",
            "4          True      REGULAR      USD  \n",
            "..          ...          ...      ...  \n",
            "123       False      REGULAR      USD  \n",
            "124       False      REGULAR      USD  \n",
            "125       False      REGULAR      USD  \n",
            "126       False      REGULAR      USD  \n",
            "127       False      REGULAR      USD  \n",
            "\n",
            "[128 rows x 14 columns], puts=          contractSymbol             lastTradeDate  strike  lastPrice     bid  \\\n",
            "0    TSLA241018P00025000 2024-10-14 13:44:04+00:00    25.0       0.01    0.00   \n",
            "1    TSLA241018P00030000 2024-09-26 13:30:31+00:00    30.0       0.01    0.00   \n",
            "2    TSLA241018P00035000 2024-09-19 19:10:19+00:00    35.0       0.01    0.00   \n",
            "3    TSLA241018P00040000 2024-09-19 18:56:49+00:00    40.0       0.01    0.00   \n",
            "4    TSLA241018P00045000 2024-09-16 16:51:34+00:00    45.0       0.01    0.00   \n",
            "..                   ...                       ...     ...        ...     ...   \n",
            "106  TSLA241018P00420000 2024-09-30 13:31:12+00:00   420.0     160.80    0.00   \n",
            "107  TSLA241018P00460000 2024-07-05 15:03:51+00:00   460.0     212.29  251.85   \n",
            "108  TSLA241018P00480000 2024-10-03 19:24:13+00:00   480.0     240.70    0.00   \n",
            "109  TSLA241018P00500000 2024-10-03 19:21:39+00:00   500.0     260.84    0.00   \n",
            "110  TSLA241018P00540000 2024-10-03 19:20:41+00:00   540.0     300.97    0.00   \n",
            "\n",
            "       ask  change  percentChange  volume  openInterest  impliedVolatility  \\\n",
            "0      0.0     0.0            0.0     5.0          1053           0.500005   \n",
            "1      0.0     0.0            0.0     3.0          1258           0.500005   \n",
            "2      0.0     0.0            0.0  5000.0          5558           0.500005   \n",
            "3      0.0     0.0            0.0     3.0           532           0.500005   \n",
            "4      0.0     0.0            0.0    19.0           620           0.500005   \n",
            "..     ...     ...            ...     ...           ...                ...   \n",
            "106    0.0     0.0            0.0     5.0             0           0.000010   \n",
            "107  252.8     0.0            0.0     1.0             0           7.247560   \n",
            "108    0.0     0.0            0.0     NaN             0           0.000010   \n",
            "109    0.0     0.0            0.0     9.0             0           0.000010   \n",
            "110    0.0     0.0            0.0     8.0             0           0.000010   \n",
            "\n",
            "     inTheMoney contractSize currency  \n",
            "0         False      REGULAR      USD  \n",
            "1         False      REGULAR      USD  \n",
            "2         False      REGULAR      USD  \n",
            "3         False      REGULAR      USD  \n",
            "4         False      REGULAR      USD  \n",
            "..          ...          ...      ...  \n",
            "106        True      REGULAR      USD  \n",
            "107        True      REGULAR      USD  \n",
            "108        True      REGULAR      USD  \n",
            "109        True      REGULAR      USD  \n",
            "110        True      REGULAR      USD  \n",
            "\n",
            "[111 rows x 14 columns], underlying={'language': 'en-US', 'region': 'US', 'quoteType': 'EQUITY', 'typeDisp': 'Equity', 'quoteSourceName': 'Nasdaq Real Time Price', 'triggerable': True, 'customPriceAlertConfidence': 'HIGH', 'hasPrePostMarketData': True, 'firstTradeDateMilliseconds': 1277818200000, 'priceHint': 2, 'regularMarketChange': 1.5899963, 'regularMarketTime': 1729086136, 'regularMarketDayHigh': 222.8199, 'regularMarketDayRange': '218.93 - 222.8199', 'regularMarketDayLow': 218.93, 'regularMarketVolume': 7625756, 'regularMarketPreviousClose': 219.57, 'bid': 220.81, 'ask': 221.78, 'bidSize': 2, 'askSize': 7, 'fullExchangeName': 'NasdaqGS', 'financialCurrency': 'USD', 'regularMarketOpen': 221.4, 'averageDailyVolume3Month': 83302559, 'averageDailyVolume10Day': 82686590, 'fiftyTwoWeekLowChange': 82.36, 'fiftyTwoWeekLowChangePercent': 0.59337175, 'fiftyTwoWeekRange': '138.8 - 271.0', 'fiftyTwoWeekHighChange': -49.839996, 'fiftyTwoWeekHighChangePercent': -0.18391143, 'fiftyTwoWeekLow': 138.8, 'fiftyTwoWeekHigh': 271.0, 'fiftyTwoWeekChangePercent': -9.522825, 'currency': 'USD', 'marketState': 'REGULAR', 'exchange': 'NMS', 'shortName': 'Tesla, Inc.', 'longName': 'Tesla, Inc.', 'messageBoardId': 'finmb_27444752', 'exchangeTimezoneName': 'America/New_York', 'exchangeTimezoneShortName': 'EDT', 'gmtOffSetMilliseconds': -14400000, 'market': 'us_market', 'esgPopulated': False, 'regularMarketChangePercent': 0.72414094, 'regularMarketPrice': 221.16, 'earningsTimestamp': 1729713600, 'earningsTimestampStart': 1729713600, 'earningsTimestampEnd': 1729713600, 'earningsCallTimestampStart': 1729719000, 'earningsCallTimestampEnd': 1729719000, 'isEarningsDateEstimate': False, 'trailingAnnualDividendRate': 0.0, 'trailingPE': 62.123596, 'trailingAnnualDividendYield': 0.0, 'epsTrailingTwelveMonths': 3.56, 'epsForward': 3.05, 'epsCurrentYear': 2.28, 'priceEpsCurrentYear': 97.0, 'sharesOutstanding': 3194639872, 'bookValue': 20.81, 'fiftyDayAverage': 225.9498, 'fiftyDayAverageChange': -4.789795, 'fiftyDayAverageChangePercent': -0.021198492, 'twoHundredDayAverage': 201.9569, 'twoHundredDayAverageChange': 19.20311, 'twoHundredDayAverageChangePercent': 0.09508519, 'marketCap': 706526576640, 'forwardPE': 72.511475, 'priceToBook': 10.6275835, 'sourceInterval': 15, 'exchangeDataDelayedBy': 0, 'averageAnalystRating': '2.8 - Hold', 'tradeable': False, 'cryptoTradeable': False, 'displayName': 'Tesla', 'symbol': 'TSLA'})\n"
          ]
        }
      ],
      "source": [
        "# get option chain for specific expiration\n",
        "opt = TSLA.option_chain('2024-10-18')\n",
        "# data available via: opt.calls, opt.puts\n",
        "print(opt)"
      ]
    }
  ],
  "metadata": {
    "colab": {
      "provenance": []
    },
    "kernelspec": {
      "display_name": "Python 3",
      "name": "python3"
    },
    "language_info": {
      "codemirror_mode": {
        "name": "ipython",
        "version": 3
      },
      "file_extension": ".py",
      "mimetype": "text/x-python",
      "name": "python",
      "nbconvert_exporter": "python",
      "pygments_lexer": "ipython3",
      "version": "3.8.0"
    }
  },
  "nbformat": 4,
  "nbformat_minor": 0
}
